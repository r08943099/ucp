{
 "cells": [
  {
   "cell_type": "markdown",
   "metadata": {},
   "source": [
    "## グラフ彩色問題 (Graph Coloring Problem)\n",
    "\n",
    "\n",
    "グラフ彩色問題では、グラフ$G=(V,E)$と色の集合 $K$が与えられた時に、隣り合う色が同じにならないようにグラフのノードに色を割り当てる方法を探索するという問題です。今回はこの問題のQUBOをPyQUBOを使って作成します。\n",
    "グラフ彩色問題のハミルトニアン$H$は以下の式によって表されます。\n",
    "\n",
    "\n",
    "\\begin{eqnarray*}\n",
    "H &=& \\alpha H_{A} + H_{B} \\\\\n",
    "H_{A} &=& \\sum_{i \\in V} \\left( 1 - \\sum_{k = 1}^{K} x_{i,k}\\right )^2 \\\\\n",
    "H_{B} &=& \\sum_{(i, j) \\in E} \\sum_{k = 1}^{K} x_{i,k} x_{j,k} .\n",
    "\\end{eqnarray*}\n",
    "\n",
    "2値変数$x_{i,k}$はノード$i$の色が$k$の時に$1$となり、それ以外の時は$0$になる変数です。$H_{A}$はノードがどれかの色に割り当てられるための制約を表すハミルトニアンです。\n",
    "$H_{B}$は隣り合うノードの色が同じにならないようにするためのペナルティです。$\\alpha$は$H_{A}$の強さを調整するためのパラメータです。"
   ]
  },
  {
   "cell_type": "markdown",
   "metadata": {},
   "source": [
    "まずは必要なライブラリをインポートします"
   ]
  },
  {
   "cell_type": "code",
   "execution_count": 3,
   "metadata": {},
   "outputs": [],
   "source": [
    "%matplotlib inline\n",
    "from pyqubo import Array, Placeholder, Constraint\n",
    "import matplotlib.pyplot as plt\n",
    "import networkx as nx"
   ]
  },
  {
   "cell_type": "markdown",
   "metadata": {},
   "source": [
    "次に、グラフを色付きで描画するための関数を用意します"
   ]
  },
  {
   "cell_type": "code",
   "execution_count": 4,
   "metadata": {},
   "outputs": [],
   "source": [
    "def plot_graph(N, E, colors=None):\n",
    "    G = nx.Graph()\n",
    "    G.add_nodes_from([n for n in range(N)])\n",
    "    for (i, j) in E:\n",
    "        G.add_edge(i, j)\n",
    "    plt.figure(figsize=(4,4))\n",
    "    pos = nx.circular_layout(G)\n",
    "    colorlist = ['#e41a1c', '#377eb8', '#4daf4a', '#984ea3', '#ff7f00', '#ffff33', '#a65628', '#f781bf']\n",
    "    if colors:\n",
    "        nx.draw_networkx(G, pos, node_color=[colorlist[colors[node]] for node in G.nodes], node_size=400, font_weight='bold', font_color='w')\n",
    "    else:\n",
    "        nx.draw_networkx(G, pos, node_color=[colorlist[0] for _ in G.nodes], node_size=400, font_weight='bold', font_color='w')\n",
    "    plt.axis(\"off\")\n",
    "    plt.show()"
   ]
  },
  {
   "cell_type": "markdown",
   "metadata": {},
   "source": [
    "試しに、ノード数6のグラフを用意して描画してみましょう。まだ色は指定していません。"
   ]
  },
  {
   "cell_type": "code",
   "execution_count": 19,
   "metadata": {},
   "outputs": [
    {
     "data": {
      "image/png": "[encoded data removed]",
      "text/plain": [
       "<Figure size 288x288 with 1 Axes>"
      ]
     },
     "metadata": {},
     "output_type": "display_data"
    }
   ],
   "source": [
    "# Given number of vertices (N) and number of colors (K)\n",
    "N = 6\n",
    "K = 3\n",
    "\n",
    "# Given edges\n",
    "E = {(0, 1), (0, 2), (0, 3), (1, 2), (2, 3), (3, 4)}\n",
    "plot_graph(N, E)"
   ]
  },
  {
   "cell_type": "markdown",
   "metadata": {},
   "source": [
    "## ハミルトニアンの構築\n",
    "\n",
    "大きさ$N \\times K$の0-1の2値行列$x$を用意します。$x[i, k]=1$はノード$i$が色$k$であることを表します。"
   ]
  },
  {
   "cell_type": "code",
   "execution_count": 6,
   "metadata": {},
   "outputs": [],
   "source": [
    "x = Array.create('x', (N, K), 'BINARY')"
   ]
  },
  {
   "cell_type": "markdown",
   "metadata": {},
   "source": [
    "ハミルトニアン$H_{A}$を定義します。各ノードが一色で彩色されるようにする制約を表します。"
   ]
  },
  {
   "cell_type": "code",
   "execution_count": 7,
   "metadata": {},
   "outputs": [],
   "source": [
    "onecolor_const = 0.0\n",
    "for i in range(N):\n",
    "    onecolor_const += Constraint((sum(x[i, :])-1)**2, label=\"onecolor{}\".format(i))"
   ]
  },
  {
   "cell_type": "markdown",
   "metadata": {},
   "source": [
    "ハミルトニアン$H_{B}$を定義します。隣り合うノードが同じ色にならなようにするためのペナルティです。"
   ]
  },
  {
   "cell_type": "code",
   "execution_count": 20,
   "metadata": {},
   "outputs": [],
   "source": [
    "# Define hamiltonian H_{A}: Constraint that no adjacent nodes are colored with the same color\n",
    "adjacent_const = 0.0\n",
    "for (i, j) in E:\n",
    "    for k in range(K):\n",
    "        adjacent_const += Constraint(x[i, k] * x[j, k], label=\"adjacent({},{})\".format(i, j))"
   ]
  },
  {
   "cell_type": "markdown",
   "metadata": {},
   "source": [
    "全体のハミルトニアン$H$を構築します。この時、パラメータalphaを使って、ハミルトニアンのバランスを取るようにします。"
   ]
  },
  {
   "cell_type": "code",
   "execution_count": 21,
   "metadata": {},
   "outputs": [],
   "source": [
    "alpha = Placeholder(\"alpha\")\n",
    "H = alpha * onecolor_const + adjacent_const"
   ]
  },
  {
   "cell_type": "markdown",
   "metadata": {},
   "source": [
    "## QUBOの生成\n",
    "\n",
    "PyQUBOのハミルトニアンをコンパイルして、モデルオブジェクト(model)を構築します。次に、パラメータalphaの数値を1.0と指定してdimodのBQMオブジェクト(bqm)を作成します。"
   ]
  },
  {
   "cell_type": "code",
   "execution_count": 10,
   "metadata": {},
   "outputs": [],
   "source": [
    "# Compile model\n",
    "model = H.compile()\n",
    "\n",
    "# Create QUBO with alpha = 1.0\n",
    "feed_dict = {'alpha': 1.0}\n",
    "bqm = model.to_bqm(feed_dict=feed_dict)"
   ]
  },
  {
   "cell_type": "markdown",
   "metadata": {},
   "source": [
    "## SAによる解の探索\n",
    "\n",
    "nealパッケージのSAを使って上で作成したbqmのエネルギーを最小にするような解を得ます。この解を元の問題におけるノードの色の情報として取得します。"
   ]
  },
  {
   "cell_type": "code",
   "execution_count": 29,
   "metadata": {},
   "outputs": [
    {
     "name": "stdout",
     "output_type": "stream",
     "text": [
      "number of broken constarint = 0\n"
     ]
    }
   ],
   "source": [
    "# nealのSAを使って解の探索を行う\n",
    "import neal\n",
    "sa = neal.SimulatedAnnealingSampler()\n",
    "sampleset = sa.sample(bqm, num_reads=100, num_sweeps=100)\n",
    "\n",
    "# 解のデコード\n",
    "decoded_samples = model.decode_sampleset(sampleset, feed_dict=feed_dict)\n",
    "best_sample = min(decoded_samples, key=lambda x: x.energy)\n",
    "\n",
    "# 破れている制約が何個あるか確認する。制約が破れていたら、パラメータalphaの調整をやり直す必要がある\n",
    "print(\"number of broken constarint = {}\".format(len(best_sample.constraints(only_broken=True))))\n",
    "\n",
    "# ノードにおける色を取得する\n",
    "colors = [0 for i in range(N)]\n",
    "for i in range(N):\n",
    "    for k in range(K):\n",
    "        if best_sample.array('x', (i, k)) == 1:\n",
    "            colors[i] = k\n",
    "            break"
   ]
  },
  {
   "cell_type": "markdown",
   "metadata": {},
   "source": [
    "## 得られた解の描画\n",
    "\n",
    "最後に、取得した色の情報を付与してグラフを描画します。隣り合う色が同じ色になっていないことが確認できました。"
   ]
  },
  {
   "cell_type": "code",
   "execution_count": 28,
   "metadata": {},
   "outputs": [
    {
     "data": {
      "image/png": "[encoded data removed]",
      "text/plain": [
       "<Figure size 288x288 with 1 Axes>"
      ]
     },
     "metadata": {},
     "output_type": "display_data"
    }
   ],
   "source": [
    "plot_graph(N, E, colors)"
   ]
  },
  {
   "cell_type": "code",
   "execution_count": null,
   "metadata": {},
   "outputs": [],
   "source": []
  }
 ],
 "metadata": {
  "kernelspec": {
   "display_name": "Python 3",
   "language": "python",
   "name": "python3"
  },
  "language_info": {
   "codemirror_mode": {
    "name": "ipython",
    "version": 3
   },
   "file_extension": ".py",
   "mimetype": "text/x-python",
   "name": "python",
   "nbconvert_exporter": "python",
   "pygments_lexer": "ipython3",
   "version": "3.9.1"
  }
 },
 "nbformat": 4,
 "nbformat_minor": 4
}
