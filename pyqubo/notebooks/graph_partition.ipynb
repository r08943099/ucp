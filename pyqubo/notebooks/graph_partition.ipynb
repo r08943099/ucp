{
 "cells": [
  {
   "cell_type": "code",
   "execution_count": 1,
   "metadata": {},
   "outputs": [],
   "source": [
    "%matplotlib inline\n",
    "from pyqubo import Spin, Array, Placeholder, Constraint\n",
    "import matplotlib.pyplot as plt\n",
    "import networkx as nx"
   ]
  },
  {
   "cell_type": "markdown",
   "metadata": {},
   "source": [
    "## Graph Partitioning Problem\n",
    "\n",
    "Partition a graph into two equal size parts such that the number of divided edges are minimized. Ising formulation of this problem is represented as\n",
    "\n",
    "$$\n",
    "H(s) = \\alpha H_{A}(s) + H_{B}(s)\\\\\n",
    "H_{A}(s) = \\left( \\sum_{i \\in V} s_{i}\\right )^2\\\\\n",
    "H_{B}(s) = \\sum_{(i, j) \\in E} \\frac{1-s_{i}s_{j}}{2}\n",
    "$$\n",
    "\n",
    "$H_{A}(s)$ is a constraint that two graph has equal number of nodes. $H_{B}(s)$ is the number of divided edges. $\\alpha$ is a penalty strength."
   ]
  },
  {
   "cell_type": "code",
   "execution_count": 2,
   "metadata": {},
   "outputs": [],
   "source": [
    "def plot_graph(E, colors=None):\n",
    "    G = nx.Graph()\n",
    "    for (i, j) in E:\n",
    "        G.add_edge(i, j)\n",
    "    plt.figure(figsize=(4,4))\n",
    "    pos = nx.spring_layout(G)\n",
    "    if colors:\n",
    "        nx.draw_networkx(G, pos, node_color=[colors[node] for node in G.nodes])\n",
    "    else:\n",
    "        nx.draw_networkx(G, pos)\n",
    "    plt.axis(\"off\")\n",
    "    plt.show()"
   ]
  },
  {
   "cell_type": "code",
   "execution_count": 3,
   "metadata": {},
   "outputs": [
    {
     "data": {
      "image/png": "[encoded data removed]",
      "text/plain": [
       "<Figure size 288x288 with 1 Axes>"
      ]
     },
     "metadata": {},
     "output_type": "display_data"
    }
   ],
   "source": [
    "# Following edges are given\n",
    "E = {(0, 6), (2, 4), (7, 5), (0, 4), (2, 0),\n",
    "     (5, 3), (2, 3), (2, 6), (4, 6), (1, 3),\n",
    "     (1, 5), (7, 1), (7, 3), (2, 5)}\n",
    "plot_graph(E)"
   ]
  },
  {
   "cell_type": "markdown",
   "metadata": {},
   "source": [
    "Prepare a vector with 8 dimension. Each spin represents which group it belongs to."
   ]
  },
  {
   "cell_type": "code",
   "execution_count": 4,
   "metadata": {},
   "outputs": [],
   "source": [
    "# Define spin vector\n",
    "s = Array.create(\"s\", 8, 'SPIN')\n",
    "\n",
    "# Define placeholder alpha\n",
    "a = Placeholder(\"alpha\")"
   ]
  },
  {
   "cell_type": "code",
   "execution_count": 1,
   "metadata": {},
   "outputs": [
    {
     "output_type": "error",
     "ename": "NameError",
     "evalue": "name 'Constraint' is not defined",
     "traceback": [
      "\u001b[0;31m---------------------------------------------------------------------------\u001b[0m",
      "\u001b[0;31mNameError\u001b[0m                                 Traceback (most recent call last)",
      "Cell \u001b[0;32mIn [1], line 2\u001b[0m\n\u001b[1;32m      1\u001b[0m \u001b[38;5;66;03m# Define hamiltonian H_{A}\u001b[39;00m\n\u001b[0;32m----> 2\u001b[0m HA \u001b[38;5;241m=\u001b[39m\u001b[43mConstraint\u001b[49m(\u001b[38;5;28msum\u001b[39m(s) \u001b[38;5;241m*\u001b[39m\u001b[38;5;241m*\u001b[39m \u001b[38;5;241m2\u001b[39m, \u001b[38;5;124m\"\u001b[39m\u001b[38;5;124mnum_nodes\u001b[39m\u001b[38;5;124m\"\u001b[39m)\n\u001b[1;32m      4\u001b[0m \u001b[38;5;66;03m# Define hamiltonian H_{B}\u001b[39;00m\n\u001b[1;32m      5\u001b[0m HB \u001b[38;5;241m=\u001b[39m \u001b[38;5;28msum\u001b[39m((\u001b[38;5;241m1.0\u001b[39m \u001b[38;5;241m-\u001b[39m s[i]\u001b[38;5;241m*\u001b[39ms[j]) \u001b[38;5;241m/\u001b[39m \u001b[38;5;241m2.0\u001b[39m \u001b[38;5;28;01mfor\u001b[39;00m (i, j) \u001b[38;5;129;01min\u001b[39;00m E)\n",
      "\u001b[0;31mNameError\u001b[0m: name 'Constraint' is not defined"
     ]
    }
   ],
   "source": [
    "# Define hamiltonian H_{A}\n",
    "HA =Constraint(sum(s) ** 2, \"num_nodes\")\n",
    "\n",
    "# Define hamiltonian H_{B}\n",
    "HB = sum((1.0 - s[i]*s[j]) / 2.0 for (i, j) in E)\n",
    "\n",
    "H = a * HA + HB"
   ]
  },
  {
   "cell_type": "code",
   "execution_count": 6,
   "metadata": {},
   "outputs": [],
   "source": [
    "# Compile model\n",
    "model = H.compile()\n",
    "\n",
    "# Create Ising model with alpha = 0.1\n",
    "feed_dict={'alpha': 0.1}\n",
    "bqm = model.to_bqm(feed_dict=feed_dict)"
   ]
  },
  {
   "cell_type": "code",
   "execution_count": 8,
   "metadata": {},
   "outputs": [
    {
     "name": "stdout",
     "output_type": "stream",
     "text": [
      "#broken constraints: 0\n"
     ]
    }
   ],
   "source": [
    "# Solve Ising model\n",
    "import neal\n",
    "sa = neal.SimulatedAnnealingSampler()\n",
    "sampleset = sa.sample(bqm)\n",
    "\n",
    "# Decode solution\n",
    "decoded_samples = model.decode_sampleset(sampleset, feed_dict=feed_dict)\n",
    "best_sample = min(decoded_samples, key=lambda x: x.energy)\n",
    "\n",
    "print(\"#broken constraints: {}\".format(len(best_sample.constraints(only_broken=True))))"
   ]
  },
  {
   "cell_type": "code",
   "execution_count": 9,
   "metadata": {},
   "outputs": [
    {
     "data": {
      "image/png": "[encoded data removed]",
      "text/plain": [
       "<Figure size 288x288 with 1 Axes>"
      ]
     },
     "metadata": {},
     "output_type": "display_data"
    }
   ],
   "source": [
    "# Plot graph\n",
    "plot_graph(E, [best_sample.sample[k]+1 for k in sorted(best_sample.sample.keys())])"
   ]
  }
 ],
 "metadata": {
  "kernelspec": {
   "name": "python3",
   "display_name": "Python 3.9.15 64-bit"
  },
  "language_info": {
   "codemirror_mode": {
    "name": "ipython",
    "version": 3
   },
   "file_extension": ".py",
   "mimetype": "text/x-python",
   "name": "python",
   "nbconvert_exporter": "python",
   "pygments_lexer": "ipython3",
   "version": "3.9.15"
  },
  "interpreter": {
   "hash": "4cd7ab41f5fca4b9b44701077e38c5ffd31fe66a6cab21e0214b68d958d0e462"
  }
 },
 "nbformat": 4,
 "nbformat_minor": 4
}