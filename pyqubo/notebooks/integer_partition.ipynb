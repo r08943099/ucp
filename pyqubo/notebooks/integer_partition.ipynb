{
 "cells": [
  {
   "cell_type": "code",
   "execution_count": 1,
   "metadata": {},
   "outputs": [],
   "source": [
    "from pyqubo import Spin"
   ]
  },
  {
   "cell_type": "markdown",
   "metadata": {},
   "source": [
    "A set of integer is given. We want to divide it into two sets A and B, such that the sum of each set is 0.\n",
    "\n",
    "$S = \\{2, 4, 6\\}$\n",
    "\n",
    "Prepare spins $s1,s2,s3 \\in \\{-1, 1\\}$, with each spin representing which set it belongs to."
   ]
  },
  {
   "cell_type": "code",
   "execution_count": 2,
   "metadata": {},
   "outputs": [],
   "source": [
    "# Define hamiltonian\n",
    "s1, s2, s3 = Spin(\"s1\"), Spin(\"s2\"), Spin(\"s3\")\n",
    "H = (2*s1 + 4*s2 + 6*s3)**2"
   ]
  },
  {
   "cell_type": "code",
   "execution_count": 3,
   "metadata": {},
   "outputs": [],
   "source": [
    "# Create Ising model\n",
    "model = H.compile()\n",
    "bqm = model.to_bqm()"
   ]
  },
  {
   "cell_type": "code",
   "execution_count": 6,
   "metadata": {},
   "outputs": [
    {
     "name": "stdout",
     "output_type": "stream",
     "text": [
      "{'s2': 1, 's1': 1, 's3': 0}\n"
     ]
    }
   ],
   "source": [
    "# Solve Ising model\n",
    "# Solve Ising model\n",
    "import neal\n",
    "sa = neal.SimulatedAnnealingSampler()\n",
    "sampleset = sa.sample(bqm)\n",
    "\n",
    "# Decode solution\n",
    "decoded_samples = model.decode_sampleset(sampleset)\n",
    "best_sample = min(decoded_samples, key=lambda x: x.energy)\n",
    "print(best_sample.sample)"
   ]
  }
 ],
 "metadata": {
  "kernelspec": {
   "display_name": "Python 3",
   "language": "python",
   "name": "python3"
  },
  "language_info": {
   "codemirror_mode": {
    "name": "ipython",
    "version": 3
   },
   "file_extension": ".py",
   "mimetype": "text/x-python",
   "name": "python",
   "nbconvert_exporter": "python",
   "pygments_lexer": "ipython3",
   "version": "3.5.8"
  }
 },
 "nbformat": 4,
 "nbformat_minor": 4
}
