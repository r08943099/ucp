{
 "cells": [
  {
   "cell_type": "code",
   "execution_count": 1,
   "metadata": {},
   "outputs": [],
   "source": [
    "%matplotlib inline\n",
    "from pyqubo import Array, Placeholder, Constraint\n",
    "import matplotlib.pyplot as plt\n",
    "import networkx as nx"
   ]
  },
  {
   "cell_type": "markdown",
   "metadata": {},
   "source": [
    "## Graph Coloring Problem\n",
    "\n",
    "For a given graph $G=(V,E)$ and a number of colors $K$, assign a color for each vertex in $V$ such that no adjacent nodes are colored with the same color. \n",
    "QUBO formulation of this problem is represented as\n",
    "\n",
    "\\begin{eqnarray*}\n",
    "H &=& \\alpha H_{A} + H_{B} \\\\\n",
    "H_{A} &=& \\sum_{i \\in V} \\left( 1 - \\sum_{k = 1}^{K} x_{i,k}\\right )^2 \\\\\n",
    "H_{B} &=& \\sum_{(i, j) \\in E} \\sum_{k = 1}^{K} x_{i,k} x_{j,k} .\n",
    "\\end{eqnarray*}\n",
    "\n",
    "$H_{A}$ is a constraint that every vertex is colored with just one color. For each vertex in $V$, when one of the corresponding $K$ binary variables  is 1 and the others are 0, we have $H_{A} = 0$ which is minimum.\n",
    "\n",
    "$H_{B}$ is a constraint that no adjacent nodes are colored with the same color. For each pair of adjacent vertices (i.e., for each edge in $E$), when there are no adjacents of the same color, we have $H_{B}=0$ which is minimum.\n",
    "\n",
    "$\\alpha$ is a constraint parameter."
   ]
  },
  {
   "cell_type": "code",
   "execution_count": 2,
   "metadata": {},
   "outputs": [],
   "source": [
    "def plot_graph(N, E, colors=None):\n",
    "    G = nx.Graph()\n",
    "    G.add_nodes_from([n for n in range(N)])\n",
    "    for (i, j) in E:\n",
    "        G.add_edge(i, j)\n",
    "    plt.figure(figsize=(4,4))\n",
    "    pos = nx.circular_layout(G)\n",
    "    colorlist = ['#e41a1c', '#377eb8', '#4daf4a', '#984ea3', '#ff7f00', '#ffff33', '#a65628', '#f781bf']\n",
    "    if colors:\n",
    "        nx.draw_networkx(G, pos, node_color=[colorlist[colors[node]] for node in G.nodes], node_size=400, font_weight='bold', font_color='w')\n",
    "    else:\n",
    "        nx.draw_networkx(G, pos, node_color=[colorlist[0] for _ in G.nodes], node_size=400, font_weight='bold', font_color='w')\n",
    "    plt.axis(\"off\")\n",
    "    plt.show()"
   ]
  },
  {
   "cell_type": "code",
   "execution_count": 3,
   "metadata": {},
   "outputs": [
    {
     "data": {
      "image/png": "[encoded data removed]",
      "text/plain": [
       "<Figure size 288x288 with 1 Axes>"
      ]
     },
     "metadata": {},
     "output_type": "display_data"
    }
   ],
   "source": [
    "# Given number of vertices (N) and number of colors (K)\n",
    "N = 6\n",
    "K = 3\n",
    "\n",
    "# Given edges\n",
    "E = {(0, 1), (0, 2), (0, 3), (1, 2), (2, 3), (3, 4)}\n",
    "plot_graph(N, E)"
   ]
  },
  {
   "cell_type": "markdown",
   "metadata": {},
   "source": [
    "Prepare a binary vector $x$ with $|V| \\times K = 6 \\times 3$ dimension. $x[i, k]=1$ represents that vertex $i$ is colored with $k$ (one-hot encoding)."
   ]
  },
  {
   "cell_type": "code",
   "execution_count": 4,
   "metadata": {},
   "outputs": [],
   "source": [
    "x = Array.create('x', (N, K), 'BINARY')"
   ]
  },
  {
   "cell_type": "code",
   "execution_count": 35,
   "metadata": {},
   "outputs": [],
   "source": [
    "# Define hamiltonian H_{A}: Constraint that every vertex is colored with just one color\n",
    "onecolor_const = 0.0\n",
    "for i in range(N):\n",
    "    onecolor_const += Constraint((sum(x[i, :])-1)**2, label=\"onecolor{}\".format(i))"
   ]
  },
  {
   "cell_type": "code",
   "execution_count": 28,
   "metadata": {},
   "outputs": [],
   "source": [
    "# Define hamiltonian H_{A}: Constraint that no adjacent nodes are colored with the same color\n",
    "adjacent_const = 0.0\n",
    "for (i, j) in E:\n",
    "    for k in range(K):\n",
    "        adjacent_const += Constraint(x[i, k] * x[j, k], label=\"adjacent({},{})\".format(i, j))"
   ]
  },
  {
   "cell_type": "code",
   "execution_count": 29,
   "metadata": {},
   "outputs": [],
   "source": [
    "# Define hamiltonian H\n",
    "alpha = Placeholder(\"alpha\")\n",
    "H = alpha * onecolor_const + adjacent_const"
   ]
  },
  {
   "cell_type": "code",
   "execution_count": 32,
   "metadata": {},
   "outputs": [],
   "source": [
    "# Compile model\n",
    "model = H.compile()\n",
    "\n",
    "# Create QUBO with alpha = 1.0\n",
    "feed_dict = {'alpha': 1.0}\n",
    "bqm = model.to_bqm(feed_dict=feed_dict)"
   ]
  },
  {
   "cell_type": "code",
   "execution_count": 33,
   "metadata": {},
   "outputs": [
    {
     "name": "stdout",
     "output_type": "stream",
     "text": [
      "number of broken constarint = 0\n"
     ]
    }
   ],
   "source": [
    "# Solve the QUBO and obtain the optimal solution\n",
    "import neal\n",
    "sa = neal.SimulatedAnnealingSampler()\n",
    "sampleset = sa.sample(bqm, num_reads=100, num_sweeps=100)\n",
    "\n",
    "# Decode solution\n",
    "decoded_samples = model.decode_sampleset(sampleset, feed_dict=feed_dict)\n",
    "best_sample = min(decoded_samples, key=lambda x: x.energy)\n",
    "print(\"number of broken constarint = {}\".format(len(best_sample.constraints(only_broken=True))))\n",
    "\n",
    "# Obtain colors of each vertex\n",
    "colors = [0 for i in range(N)]\n",
    "for i in range(N):\n",
    "    for k in range(K):\n",
    "        if best_sample.array('x', (i, k)) == 1:\n",
    "            colors[i] = k\n",
    "            break"
   ]
  },
  {
   "cell_type": "code",
   "execution_count": 34,
   "metadata": {},
   "outputs": [
    {
     "data": {
      "image/png": "[encoded data removed]",
      "text/plain": [
       "<Figure size 288x288 with 1 Axes>"
      ]
     },
     "metadata": {},
     "output_type": "display_data"
    }
   ],
   "source": [
    "# Plot graph after coloring\n",
    "plot_graph(N, E, colors)"
   ]
  }
 ],
 "metadata": {
  "kernelspec": {
   "display_name": "Python 3",
   "language": "python",
   "name": "python3"
  },
  "language_info": {
   "codemirror_mode": {
    "name": "ipython",
    "version": 3
   },
   "file_extension": ".py",
   "mimetype": "text/x-python",
   "name": "python",
   "nbconvert_exporter": "python",
   "pygments_lexer": "ipython3",
   "version": "3.5.8"
  }
 },
 "nbformat": 4,
 "nbformat_minor": 4
}
